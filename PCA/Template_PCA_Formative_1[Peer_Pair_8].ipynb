{
  "cells": [
    {
      "cell_type": "markdown",
      "metadata": {
        "id": "JqkivgEHr_KW"
      },
      "source": [
        "# Formative Assignment: Advanced Linear Algebra (PCA)\n",
        "This notebook will guide you through the implementation of Principal Component Analysis (PCA). Fill in the missing code and provide the required answers in the appropriate sections. You will work with a dataset that is Africanized .\n",
        "\n",
        "Make sure to display outputs for each code cell when submitting."
      ]
    },
    {
      "cell_type": "markdown",
      "metadata": {
        "id": "xycIp758r_Kb"
      },
      "source": [
        "### Step 1: Load and Standardize the Data\n",
        "Before applying PCA, we must standardize the dataset. Standardization ensures that all features have a mean of 0 and a standard deviation of 1, which is essential for PCA.\n",
        "Fill in the code to standardize the dataset.\n",
        "\n",
        "STRICTLY - Write code that implements standardization based on the image below\n",
        "\n",
        "<img src='data:image/jpeg;base64,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'/>\n"
      ]
    },
    {
      "cell_type": "code",
      "execution_count": 5,
      "metadata": {
        "id": "BKihXBaBr_Kc"
      },
      "outputs": [
        {
          "name": "stdout",
          "output_type": "stream",
          "text": [
            "Path to dataset files: C:\\Users\\RAISSA\\.cache\\kagglehub\\datasets\\malaiarasugraj\\global-health-statistics\\versions\\1\n"
          ]
        }
      ],
      "source": [
        "import kagglehub\n",
        "import pandas as pd\n",
        "import numpy as np\n",
        "\n",
        "# Download latest version\n",
        "path = kagglehub.dataset_download(\"malaiarasugraj/global-health-statistics\")\n",
        "print(\"Path to dataset files:\", path)"
      ]
    },
    {
      "cell_type": "code",
      "execution_count": 6,
      "metadata": {},
      "outputs": [
        {
          "name": "stdout",
          "output_type": "stream",
          "text": [
            "Available CSV files: ['Global Health Statistics.csv']\n",
            "Original dataset shape: (1000000, 22)\n",
            "\n",
            "First few rows:\n",
            "     Country  Year         Disease Name Disease Category  Prevalence Rate (%)  \\\n",
            "0      Italy  2013              Malaria      Respiratory                 0.95   \n",
            "1     France  2002                Ebola        Parasitic                12.46   \n",
            "2     Turkey  2015             COVID-19          Genetic                 0.91   \n",
            "3  Indonesia  2011  Parkinson's Disease       Autoimmune                 4.68   \n",
            "4      Italy  2013         Tuberculosis          Genetic                 0.83   \n",
            "\n",
            "   Incidence Rate (%)  Mortality Rate (%) Age Group Gender  \\\n",
            "0                1.55                8.42      0-18   Male   \n",
            "1                8.63                8.75       61+   Male   \n",
            "2                2.35                6.22     36-60   Male   \n",
            "3                6.29                3.99      0-18  Other   \n",
            "4               13.59                7.01       61+   Male   \n",
            "\n",
            "   Population Affected  ...  Hospital Beds per 1000  Treatment Type  \\\n",
            "0               471007  ...                    7.58      Medication   \n",
            "1               634318  ...                    5.11         Surgery   \n",
            "2               154878  ...                    3.49     Vaccination   \n",
            "3               446224  ...                    8.44         Surgery   \n",
            "4               472908  ...                    5.90      Medication   \n",
            "\n",
            "   Average Treatment Cost (USD) Availability of Vaccines/Treatment  \\\n",
            "0                         21064                                 No   \n",
            "1                         47851                                Yes   \n",
            "2                         27834                                Yes   \n",
            "3                           144                                Yes   \n",
            "4                          8908                                Yes   \n",
            "\n",
            "   Recovery Rate (%) DALYs  Improvement in 5 Years (%)  \\\n",
            "0              91.82  4493                        2.16   \n",
            "1              76.65  2366                        4.82   \n",
            "2              98.55    41                        5.81   \n",
            "3              67.35  3201                        2.22   \n",
            "4              50.06  2832                        6.93   \n",
            "\n",
            "   Per Capita Income (USD)  Education Index  Urbanization Rate (%)  \n",
            "0                    16886             0.79                  86.02  \n",
            "1                    80639             0.74                  45.52  \n",
            "2                    12245             0.41                  40.20  \n",
            "3                    49336             0.49                  58.47  \n",
            "4                    47701             0.50                  48.14  \n",
            "\n",
            "[5 rows x 22 columns]\n",
            "\n",
            "Missing values per column:\n",
            "Country                               0\n",
            "Year                                  0\n",
            "Disease Name                          0\n",
            "Disease Category                      0\n",
            "Prevalence Rate (%)                   0\n",
            "Incidence Rate (%)                    0\n",
            "Mortality Rate (%)                    0\n",
            "Age Group                             0\n",
            "Gender                                0\n",
            "Population Affected                   0\n",
            "Healthcare Access (%)                 0\n",
            "Doctors per 1000                      0\n",
            "Hospital Beds per 1000                0\n",
            "Treatment Type                        0\n",
            "Average Treatment Cost (USD)          0\n",
            "Availability of Vaccines/Treatment    0\n",
            "Recovery Rate (%)                     0\n",
            "DALYs                                 0\n",
            "Improvement in 5 Years (%)            0\n",
            "Per Capita Income (USD)               0\n",
            "Education Index                       0\n",
            "Urbanization Rate (%)                 0\n",
            "dtype: int64\n",
            "\n",
            "Dataset shape after dropping missing values: (1000000, 22)\n",
            "\n",
            "Numeric columns for PCA: ['Year', 'Prevalence Rate (%)', 'Incidence Rate (%)', 'Mortality Rate (%)', 'Population Affected', 'Healthcare Access (%)', 'Doctors per 1000', 'Hospital Beds per 1000', 'Average Treatment Cost (USD)', 'Recovery Rate (%)', 'DALYs', 'Improvement in 5 Years (%)', 'Per Capita Income (USD)', 'Education Index', 'Urbanization Rate (%)']\n",
            "Shape of numeric data: (1000000, 15)\n",
            "\n",
            "Standardization completed!\n",
            "Standardized data shape: (1000000, 15)\n",
            "\n",
            "First 5 rows of standardized data:\n",
            "[[ 0.13897203 -1.58496372 -1.39685504  1.17858637 -0.10298765 -1.19475082\n",
            "   0.45576631  0.8509602  -0.27400619  1.22379798  1.38085901 -0.98417557\n",
            "  -1.16354465  0.96856963  1.53530835]\n",
            " [-1.38514646  0.42019662  0.25006     1.29399413  0.46276768  0.9851638\n",
            "  -1.0914985  -0.04955801  1.58590776  0.1521046  -0.09221041 -0.06321808\n",
            "   1.05572956  0.62248235 -0.46824936]\n",
            " [ 0.41608449 -1.59193213 -1.21076294  0.40920133 -1.1981476  -1.2868794\n",
            "   1.01770826 -0.64018128  0.1960583   1.6992427  -1.70240619  0.2795443\n",
            "  -1.32510021 -1.66169372 -0.73143275]\n",
            " [-0.13814042 -0.93515937 -0.29425938 -0.37067533 -0.18884295  0.70739267\n",
            "   0.33260095  1.16450095 -1.72655406 -0.50489925  0.48607495 -0.9634021\n",
            "  -0.03394372 -1.10795406  0.1723944 ]\n",
            " [ 0.13897203 -1.60586895  1.40383098  0.6854805  -0.09640205 -0.55331423\n",
            "   1.43339134  0.23846199 -1.11803926 -1.72636125  0.2305213   0.66731588\n",
            "  -0.0908589  -1.03873661 -0.33863649]]\n",
            "\n",
            "Verification:\n",
            "Mean of standardized data (should be ~0):\n",
            "[ 5.57662005e-15  3.98472366e-17  2.60115485e-16  3.07757375e-16\n",
            "  1.61080038e-17 -1.88358840e-15 -7.25755456e-16 -6.85602686e-16\n",
            " -1.03460351e-16  2.01261585e-15  7.24824645e-17  8.20243429e-16\n",
            " -3.09636761e-17 -3.94670963e-16  8.20747914e-16]\n",
            "\n",
            "Standard deviation of standardized data (should be ~1):\n",
            "[1. 1. 1. 1. 1. 1. 1. 1. 1. 1. 1. 1. 1. 1. 1.]\n",
            "\n",
            "Alias 'health_data_clean' created for the cleaned dataset with shape: (1000000, 22)\n"
          ]
        }
      ],
      "source": [
        "import os\n",
        "csv_files = [f for f in os.listdir(path) if f.endswith('.csv')]\n",
        "print(\"Available CSV files:\", csv_files)\n",
        "\n",
        "# Load  dataset\n",
        "df = pd.read_csv(os.path.join(path, csv_files[0]))\n",
        "print(\"Original dataset shape:\", df.shape)\n",
        "print(\"\\nFirst few rows:\")\n",
        "print(df.head())\n",
        "\n",
        "# Step 2: Handle missing values by dropping them\n",
        "print(\"\\nMissing values per column:\")\n",
        "print(df.isnull().sum())\n",
        "\n",
        "# Drop rows with any missing values\n",
        "df_clean = df.dropna()\n",
        "print(f\"\\nDataset shape after dropping missing values: {df_clean.shape}\")\n",
        "\n",
        "# Step 3: Select only numeric columns for PCA\n",
        "numeric_columns = df_clean.select_dtypes(include=[np.number]).columns\n",
        "df_numeric = df_clean[numeric_columns]\n",
        "print(f\"\\nNumeric columns for PCA: {list(numeric_columns)}\")\n",
        "print(f\"Shape of numeric data: {df_numeric.shape}\")\n",
        "\n",
        "data_array = df_numeric.values\n",
        "\n",
        "# Calculate mean and standard deviation\n",
        "data_mean = np.mean(data_array, axis=0)\n",
        "data_std = np.std(data_array, axis=0, ddof=1)\n",
        "\n",
        "standardized_data = (data_array - data_mean) / data_std\n",
        "\n",
        "print(\"\\nStandardization completed!\")\n",
        "print(\"Standardized data shape:\", standardized_data.shape)\n",
        "print(\"\\nFirst 5 rows of standardized data:\")\n",
        "print(standardized_data[:5])\n",
        "\n",
        "print(\"\\nVerification:\")\n",
        "print(\"Mean of standardized data (should be ~0):\")\n",
        "print(np.mean(standardized_data, axis=0))\n",
        "print(\"\\nStandard deviation of standardized data (should be ~1):\")\n",
        "print(np.std(standardized_data, axis=0, ddof=1))\n",
        "\n",
        "# Create an alias for the cleaned dataset\n",
        "health_data_clean = df_clean\n",
        "print(f\"\\nAlias 'health_data_clean' created for the cleaned dataset with shape: {health_data_clean.shape}\")"
      ]
    },
    {
      "cell_type": "markdown",
      "metadata": {
        "id": "Fybn40Syr_Kd"
      },
      "source": [
        "### Step 3: Calculate the Covariance Matrix\n",
        "The covariance matrix helps us understand how the features are related to each other. It is a key component in PCA."
      ]
    },
    {
      "cell_type": "code",
      "execution_count": 7,
      "metadata": {
        "id": "RbklA9tqr_Ke"
      },
      "outputs": [
        {
          "name": "stdout",
          "output_type": "stream",
          "text": [
            "Covariance Matrix:\n",
            "[[ 1.00000000e+00 -8.18146814e-04 -9.43831574e-04  4.47732280e-04\n",
            "   6.85555639e-04 -1.29107005e-03 -2.69957121e-05 -6.45410979e-04\n",
            "   1.27541207e-03 -2.73285423e-04  8.16399298e-04 -1.22303608e-03\n",
            "   2.05597103e-04 -6.09702066e-04  2.01804947e-04]\n",
            " [-8.18146814e-04  1.00000000e+00  3.38152327e-04  1.28380365e-03\n",
            "   6.21521822e-04 -2.30922906e-04  4.18161619e-04  4.68351541e-04\n",
            "  -1.12815047e-03 -2.01289881e-04  5.35383695e-04  3.68681387e-05\n",
            "   1.04865358e-03 -1.85132760e-04  2.33371736e-03]\n",
            " [-9.43831574e-04  3.38152327e-04  1.00000000e+00  3.23081057e-04\n",
            "   2.33682182e-03  8.44233680e-04 -3.72094073e-05 -3.39573503e-04\n",
            "   3.90055912e-04  1.76152962e-04  3.65583883e-04 -1.03136462e-03\n",
            "   1.18423584e-03 -4.81102575e-04  4.31354273e-04]\n",
            " [ 4.47732280e-04  1.28380365e-03  3.23081057e-04  1.00000000e+00\n",
            "  -1.83059346e-03  7.72026512e-05  8.20286648e-04  7.69349081e-04\n",
            "  -1.55351894e-03  7.36142248e-04 -1.09511758e-03  1.97414373e-04\n",
            "  -1.50335631e-03 -1.10255215e-04  1.69291663e-04]\n",
            " [ 6.85555639e-04  6.21521822e-04  2.33682182e-03 -1.83059346e-03\n",
            "   1.00000000e+00  3.76954432e-04  5.03947180e-04  1.14133402e-04\n",
            "   1.77709781e-03  7.07232132e-05 -1.67496495e-03 -7.32276187e-04\n",
            "  -2.13476764e-04  1.44621857e-03 -4.85331322e-04]\n",
            " [-1.29107005e-03 -2.30922906e-04  8.44233680e-04  7.72026512e-05\n",
            "   3.76954432e-04  1.00000000e+00  6.16655375e-04 -2.69067698e-04\n",
            "   4.46504355e-04  1.59804940e-03  1.25528883e-04 -1.08513619e-03\n",
            "  -1.30829968e-03  1.08484541e-03  3.62776439e-04]\n",
            " [-2.69957121e-05  4.18161619e-04 -3.72094073e-05  8.20286648e-04\n",
            "   5.03947180e-04  6.16655375e-04  1.00000000e+00  1.58495588e-03\n",
            "   2.90327855e-04 -1.30799444e-03  9.27055656e-04 -1.07995427e-04\n",
            "   6.71510989e-04  6.86725935e-04 -3.21602348e-04]\n",
            " [-6.45410979e-04  4.68351541e-04 -3.39573503e-04  7.69349081e-04\n",
            "   1.14133402e-04 -2.69067698e-04  1.58495588e-03  1.00000000e+00\n",
            "  -7.14665093e-04 -1.02954940e-03 -6.77700436e-04  2.64214342e-04\n",
            "   5.64204792e-04 -2.22731651e-03 -1.47035057e-03]\n",
            " [ 1.27541207e-03 -1.12815047e-03  3.90055912e-04 -1.55351894e-03\n",
            "   1.77709781e-03  4.46504355e-04  2.90327855e-04 -7.14665093e-04\n",
            "   1.00000000e+00  4.70998711e-04 -4.69154257e-04  5.84223804e-04\n",
            "  -2.01072585e-03  7.49088258e-05  1.40069272e-03]\n",
            " [-2.73285423e-04 -2.01289881e-04  1.76152962e-04  7.36142248e-04\n",
            "   7.07232132e-05  1.59804940e-03 -1.30799444e-03 -1.02954940e-03\n",
            "   4.70998711e-04  1.00000000e+00  9.16896816e-05  8.38457587e-04\n",
            "   2.87208940e-04 -1.67779103e-03  1.23125710e-03]\n",
            " [ 8.16399298e-04  5.35383695e-04  3.65583883e-04 -1.09511758e-03\n",
            "  -1.67496495e-03  1.25528883e-04  9.27055656e-04 -6.77700436e-04\n",
            "  -4.69154257e-04  9.16896816e-05  1.00000000e+00  9.27991106e-05\n",
            "   3.70703780e-04 -4.99653675e-04 -1.00774648e-03]\n",
            " [-1.22303608e-03  3.68681387e-05 -1.03136462e-03  1.97414373e-04\n",
            "  -7.32276187e-04 -1.08513619e-03 -1.07995427e-04  2.64214342e-04\n",
            "   5.84223804e-04  8.38457587e-04  9.27991106e-05  1.00000000e+00\n",
            "   5.89706415e-04 -1.04862882e-03  6.93633736e-04]\n",
            " [ 2.05597103e-04  1.04865358e-03  1.18423584e-03 -1.50335631e-03\n",
            "  -2.13476764e-04 -1.30829968e-03  6.71510989e-04  5.64204792e-04\n",
            "  -2.01072585e-03  2.87208940e-04  3.70703780e-04  5.89706415e-04\n",
            "   1.00000000e+00 -5.64052539e-04  1.03681000e-04]\n",
            " [-6.09702066e-04 -1.85132760e-04 -4.81102575e-04 -1.10255215e-04\n",
            "   1.44621857e-03  1.08484541e-03  6.86725935e-04 -2.22731651e-03\n",
            "   7.49088258e-05 -1.67779103e-03 -4.99653675e-04 -1.04862882e-03\n",
            "  -5.64052539e-04  1.00000000e+00 -1.73867363e-04]\n",
            " [ 2.01804947e-04  2.33371736e-03  4.31354273e-04  1.69291663e-04\n",
            "  -4.85331322e-04  3.62776439e-04 -3.21602348e-04 -1.47035057e-03\n",
            "   1.40069272e-03  1.23125710e-03 -1.00774648e-03  6.93633736e-04\n",
            "   1.03681000e-04 -1.73867363e-04  1.00000000e+00]]\n",
            "\n",
            "Covariance matrix shape: (15, 15)\n"
          ]
        }
      ],
      "source": [
        "# Step 3: Calculate the Covariance Matrix\n",
        "n_samples = standardized_data.shape[0]\n",
        "cov_matrix = np.dot(standardized_data.T, standardized_data) / (n_samples - 1)\n",
        "\n",
        "print(\"Covariance Matrix:\")\n",
        "print(cov_matrix)\n",
        "print(f\"\\nCovariance matrix shape: {cov_matrix.shape}\")"
      ]
    },
    {
      "cell_type": "markdown",
      "metadata": {
        "id": "dWzqXsR0r_Ke"
      },
      "source": [
        "### Step 4: Perform Eigendecomposition\n",
        "Eigendecomposition of the covariance matrix will give us the eigenvalues and eigenvectors, which are essential for PCA.\n",
        "Fill in the code to compute the eigenvalues and eigenvectors of the covariance matrix."
      ]
    },
    {
      "cell_type": "code",
      "execution_count": 8,
      "metadata": {
        "id": "8Tm0rzdAr_Ke"
      },
      "outputs": [
        {
          "name": "stdout",
          "output_type": "stream",
          "text": [
            "Eigenvalues:\n",
            "[0.99372264 0.99549535 0.99584893 0.99654958 1.00572007 0.99813485\n",
            " 0.99895403 0.998861   1.00422898 1.00358339 1.00291236 1.00089882\n",
            " 1.00126463 1.00179514 1.00203024]\n",
            "\n",
            "Number of eigenvalues: 15\n",
            "\n",
            "Eigenvectors:\n",
            "[[ 2.91465677e-01  3.16370402e-02 -1.09762744e-01  3.99346193e-01\n",
            "  -8.55693206e-02 -1.03656881e-01 -2.74162276e-01  6.73570186e-02\n",
            "  -8.75303750e-02 -3.07717985e-01  2.45234209e-01 -2.88352862e-01\n",
            "   5.10347943e-01  3.71695681e-01 -2.23834274e-02]\n",
            " [ 2.63862084e-01 -3.46073600e-01  9.26958180e-02 -1.58136984e-03\n",
            "   1.67860841e-01 -4.42960968e-01  3.08948366e-01  1.62467931e-01\n",
            "   1.93174234e-01  4.96506578e-01  5.32038471e-03  6.61128892e-02\n",
            "   6.55869184e-02  3.86519864e-01  1.17663546e-01]\n",
            " [ 3.47231926e-01  7.80240805e-02  2.65297563e-02  1.11875074e-01\n",
            "  -1.92793204e-01  3.11825285e-01  1.69195201e-01 -5.28616277e-01\n",
            "   4.30046542e-03  4.81420564e-01  2.01194263e-01 -2.34253569e-01\n",
            "   1.56193572e-01 -2.57036698e-01  7.31741494e-03]\n",
            " [-4.18032963e-01 -7.77370959e-02  1.77423368e-01  6.52819916e-02\n",
            "   2.45947336e-01 -3.14528162e-02 -1.92432938e-01 -4.30529947e-01\n",
            "   1.61897414e-01  1.10954399e-01 -5.06314607e-01 -2.75991190e-01\n",
            "   2.44900286e-01  2.04417496e-01 -1.63672908e-01]\n",
            " [-4.24631540e-01  1.66974074e-01 -2.55853026e-01 -2.57888230e-02\n",
            "  -4.49028337e-01 -4.86318950e-01 -9.52640268e-02 -4.81226259e-02\n",
            "  -1.92778273e-01  3.13077575e-01  2.42595042e-01 -9.76062947e-02\n",
            "  -7.28421175e-02  3.29087532e-02 -2.57311007e-01]\n",
            " [-6.65715638e-02 -2.16868372e-01 -1.49292848e-01  5.29186358e-01\n",
            "  -2.67718998e-01  3.36681578e-02 -9.54583206e-02  3.33496018e-01\n",
            "   1.05933630e-01  2.02146673e-01 -3.85840696e-01  1.87361190e-01\n",
            "   2.06682544e-01 -4.12927682e-01  6.14936934e-02]\n",
            " [ 1.54990516e-01 -4.79274391e-02 -2.66671715e-01 -3.84321744e-01\n",
            "   8.33103425e-02  1.73317565e-01 -3.69361213e-01 -4.77186117e-02\n",
            "  -3.17503617e-01  2.49479915e-01 -1.07704375e-01  4.99524161e-01\n",
            "   3.43867482e-01  1.30158331e-01 -1.40783878e-01]\n",
            " [ 9.08494017e-02  4.21418320e-01  3.66542166e-01  2.16214066e-01\n",
            "   3.40982081e-01 -3.37721646e-02  1.23804601e-01  2.84222811e-01\n",
            "  -2.40887884e-01  1.69943536e-01 -5.02196887e-03  4.05203122e-02\n",
            "   6.18266528e-02 -1.22098331e-01 -5.58772180e-01]\n",
            " [-1.13634301e-01 -3.55773808e-01  5.20193549e-01 -5.58082104e-02\n",
            "  -4.53731018e-01  1.33772543e-01  1.31721766e-01 -7.24662926e-02\n",
            "   1.14187289e-01 -1.85609970e-01  1.76120331e-01  3.10407027e-01\n",
            "   1.75370698e-01  1.12094999e-01 -3.49637783e-01]\n",
            " [ 2.31558427e-01  1.79377726e-01  2.04033942e-01 -3.74104056e-01\n",
            "  -5.67401703e-02 -3.12409377e-01 -4.09386075e-01  9.76541778e-02\n",
            "   5.33198787e-01 -2.28780346e-03  3.67234435e-02 -9.30539200e-02\n",
            "   1.68990007e-01 -3.61372916e-01 -3.47338214e-02]\n",
            " [-2.88902972e-01  2.71227320e-01  1.29491070e-01  3.45821063e-02\n",
            "   1.50351212e-01 -2.42390882e-01  2.75755224e-01 -1.80893437e-01\n",
            "  -7.88088177e-02 -1.01505798e-01  1.67618929e-01  3.34562603e-01\n",
            "   4.87923189e-01 -1.88586513e-01  4.52447057e-01]\n",
            " [ 1.30795271e-01  1.72276784e-02 -1.74035514e-01  4.06081505e-01\n",
            "   2.06367192e-01 -2.04421192e-01 -1.75364780e-01 -4.33071633e-01\n",
            "   2.91460551e-01 -1.13851000e-01  1.54636730e-01  4.75755329e-01\n",
            "  -3.07655902e-01 -5.53593639e-04 -2.04710903e-01]\n",
            " [-2.92468795e-01 -2.35511386e-01  2.86234005e-01  1.49522131e-01\n",
            "   2.62959470e-01  2.01461750e-01 -4.76057356e-01  1.42307464e-01\n",
            "  -5.66008475e-02  2.89256312e-01  4.89091465e-01 -3.51624782e-02\n",
            "  -1.15173666e-01 -3.83777819e-02  2.36718228e-01]\n",
            " [ 2.10530564e-01  3.06636564e-01  4.42953650e-01  1.23032377e-01\n",
            "  -3.34372863e-01 -1.14403556e-01 -2.66900387e-01 -1.02183122e-01\n",
            "  -2.50168670e-01  7.81599803e-02 -3.10079436e-01  1.44671090e-01\n",
            "  -2.70949892e-01  2.36433078e-01  3.58676225e-01]\n",
            " [-1.90047613e-01  4.79786054e-01 -1.28589816e-01  4.38977425e-02\n",
            "  -1.22861439e-01  3.95330564e-01  6.46369593e-02  2.04760751e-01\n",
            "   5.16995338e-01  1.92905092e-01  6.25466994e-02  1.42075355e-01\n",
            "   4.54665668e-02  4.06269100e-01  4.49773806e-02]]\n",
            "\n",
            "Eigenvectors shape: (15, 15)\n",
            "\n",
            "Sorted Eigenvalues (descending order):\n",
            "[1.00572007 1.00422898 1.00358339 1.00291236 1.00203024 1.00179514\n",
            " 1.00126463 1.00089882 0.99895403 0.998861   0.99813485 0.99654958\n",
            " 0.99584893 0.99549535 0.99372264]\n",
            "\n",
            "Sorted Eigenvectors (corresponding to sorted eigenvalues):\n",
            "[[-8.55693206e-02 -8.75303750e-02 -3.07717985e-01  2.45234209e-01\n",
            "  -2.23834274e-02  3.71695681e-01  5.10347943e-01 -2.88352862e-01\n",
            "  -2.74162276e-01  6.73570186e-02 -1.03656881e-01  3.99346193e-01\n",
            "  -1.09762744e-01  3.16370402e-02  2.91465677e-01]\n",
            " [ 1.67860841e-01  1.93174234e-01  4.96506578e-01  5.32038471e-03\n",
            "   1.17663546e-01  3.86519864e-01  6.55869184e-02  6.61128892e-02\n",
            "   3.08948366e-01  1.62467931e-01 -4.42960968e-01 -1.58136984e-03\n",
            "   9.26958180e-02 -3.46073600e-01  2.63862084e-01]\n",
            " [-1.92793204e-01  4.30046542e-03  4.81420564e-01  2.01194263e-01\n",
            "   7.31741494e-03 -2.57036698e-01  1.56193572e-01 -2.34253569e-01\n",
            "   1.69195201e-01 -5.28616277e-01  3.11825285e-01  1.11875074e-01\n",
            "   2.65297563e-02  7.80240805e-02  3.47231926e-01]\n",
            " [ 2.45947336e-01  1.61897414e-01  1.10954399e-01 -5.06314607e-01\n",
            "  -1.63672908e-01  2.04417496e-01  2.44900286e-01 -2.75991190e-01\n",
            "  -1.92432938e-01 -4.30529947e-01 -3.14528162e-02  6.52819916e-02\n",
            "   1.77423368e-01 -7.77370959e-02 -4.18032963e-01]\n",
            " [-4.49028337e-01 -1.92778273e-01  3.13077575e-01  2.42595042e-01\n",
            "  -2.57311007e-01  3.29087532e-02 -7.28421175e-02 -9.76062947e-02\n",
            "  -9.52640268e-02 -4.81226259e-02 -4.86318950e-01 -2.57888230e-02\n",
            "  -2.55853026e-01  1.66974074e-01 -4.24631540e-01]\n",
            " [-2.67718998e-01  1.05933630e-01  2.02146673e-01 -3.85840696e-01\n",
            "   6.14936934e-02 -4.12927682e-01  2.06682544e-01  1.87361190e-01\n",
            "  -9.54583206e-02  3.33496018e-01  3.36681578e-02  5.29186358e-01\n",
            "  -1.49292848e-01 -2.16868372e-01 -6.65715638e-02]\n",
            " [ 8.33103425e-02 -3.17503617e-01  2.49479915e-01 -1.07704375e-01\n",
            "  -1.40783878e-01  1.30158331e-01  3.43867482e-01  4.99524161e-01\n",
            "  -3.69361213e-01 -4.77186117e-02  1.73317565e-01 -3.84321744e-01\n",
            "  -2.66671715e-01 -4.79274391e-02  1.54990516e-01]\n",
            " [ 3.40982081e-01 -2.40887884e-01  1.69943536e-01 -5.02196887e-03\n",
            "  -5.58772180e-01 -1.22098331e-01  6.18266528e-02  4.05203122e-02\n",
            "   1.23804601e-01  2.84222811e-01 -3.37721646e-02  2.16214066e-01\n",
            "   3.66542166e-01  4.21418320e-01  9.08494017e-02]\n",
            " [-4.53731018e-01  1.14187289e-01 -1.85609970e-01  1.76120331e-01\n",
            "  -3.49637783e-01  1.12094999e-01  1.75370698e-01  3.10407027e-01\n",
            "   1.31721766e-01 -7.24662926e-02  1.33772543e-01 -5.58082104e-02\n",
            "   5.20193549e-01 -3.55773808e-01 -1.13634301e-01]\n",
            " [-5.67401703e-02  5.33198787e-01 -2.28780346e-03  3.67234435e-02\n",
            "  -3.47338214e-02 -3.61372916e-01  1.68990007e-01 -9.30539200e-02\n",
            "  -4.09386075e-01  9.76541778e-02 -3.12409377e-01 -3.74104056e-01\n",
            "   2.04033942e-01  1.79377726e-01  2.31558427e-01]\n",
            " [ 1.50351212e-01 -7.88088177e-02 -1.01505798e-01  1.67618929e-01\n",
            "   4.52447057e-01 -1.88586513e-01  4.87923189e-01  3.34562603e-01\n",
            "   2.75755224e-01 -1.80893437e-01 -2.42390882e-01  3.45821063e-02\n",
            "   1.29491070e-01  2.71227320e-01 -2.88902972e-01]\n",
            " [ 2.06367192e-01  2.91460551e-01 -1.13851000e-01  1.54636730e-01\n",
            "  -2.04710903e-01 -5.53593639e-04 -3.07655902e-01  4.75755329e-01\n",
            "  -1.75364780e-01 -4.33071633e-01 -2.04421192e-01  4.06081505e-01\n",
            "  -1.74035514e-01  1.72276784e-02  1.30795271e-01]\n",
            " [ 2.62959470e-01 -5.66008475e-02  2.89256312e-01  4.89091465e-01\n",
            "   2.36718228e-01 -3.83777819e-02 -1.15173666e-01 -3.51624782e-02\n",
            "  -4.76057356e-01  1.42307464e-01  2.01461750e-01  1.49522131e-01\n",
            "   2.86234005e-01 -2.35511386e-01 -2.92468795e-01]\n",
            " [-3.34372863e-01 -2.50168670e-01  7.81599803e-02 -3.10079436e-01\n",
            "   3.58676225e-01  2.36433078e-01 -2.70949892e-01  1.44671090e-01\n",
            "  -2.66900387e-01 -1.02183122e-01 -1.14403556e-01  1.23032377e-01\n",
            "   4.42953650e-01  3.06636564e-01  2.10530564e-01]\n",
            " [-1.22861439e-01  5.16995338e-01  1.92905092e-01  6.25466994e-02\n",
            "   4.49773806e-02  4.06269100e-01  4.54665668e-02  1.42075355e-01\n",
            "   6.46369593e-02  2.04760751e-01  3.95330564e-01  4.38977425e-02\n",
            "  -1.28589816e-01  4.79786054e-01 -1.90047613e-01]]\n"
          ]
        }
      ],
      "source": [
        "# Step 4: Perform Eigendecomposition\n",
        "eigenvalues, eigenvectors = np.linalg.eig(cov_matrix)\n",
        "\n",
        "print(\"Eigenvalues:\")\n",
        "print(eigenvalues)\n",
        "print(f\"\\nNumber of eigenvalues: {len(eigenvalues)}\")\n",
        "\n",
        "print(\"\\nEigenvectors:\")\n",
        "print(eigenvectors)\n",
        "print(f\"\\nEigenvectors shape: {eigenvectors.shape}\")\n",
        "\n",
        "sorted_indices = np.argsort(eigenvalues)[::-1]\n",
        "eigenvalues = eigenvalues[sorted_indices]\n",
        "eigenvectors = eigenvectors[:, sorted_indices]\n",
        "\n",
        "print(\"\\nSorted Eigenvalues (descending order):\")\n",
        "print(eigenvalues)\n",
        "print(\"\\nSorted Eigenvectors (corresponding to sorted eigenvalues):\")\n",
        "print(eigenvectors)"
      ]
    },
    {
      "cell_type": "markdown",
      "metadata": {
        "id": "bp6o_4sTr_Kf"
      },
      "source": [
        "### Step 5: Sort Principal Components\n",
        "Sort the eigenvectors based on their corresponding eigenvalues in descending order. The higher the eigenvalue, the more important the eigenvector.\n",
        "Complete the code to sort the eigenvectors and print the sorted components.\n",
        "\n",
        "<a url ='https://www.youtube.com/watch?v=vaF-1xUEXsA&t=17s'>How Is Explained Variance Used In PCA?'<a/>"
      ]
    },
    {
      "cell_type": "code",
      "execution_count": 9,
      "metadata": {
        "id": "jpfoRz-Xr_Kf"
      },
      "outputs": [],
      "source": [
        "# Step 5: Sort Principal Components\n",
        "sorted_indices = None  # Sort eigenvalues in descending order\n",
        "sorted_eigenvectors = None  # Sort eigenvectors accordingly\n",
        "sorted_eigenvectors"
      ]
    },
    {
      "cell_type": "markdown",
      "metadata": {
        "id": "uxbmuO27r_Kg"
      },
      "source": [
        "### Step 6: Project Data onto Principal Components\n",
        "Now that we’ve selected the number of components, we will project the original data onto the chosen principal components.\n",
        "Fill in the code to perform the projection."
      ]
    },
    {
      "cell_type": "code",
      "execution_count": 10,
      "metadata": {
        "id": "ubjIMAtWr_Kg"
      },
      "outputs": [
        {
          "ename": "TypeError",
          "evalue": "'NoneType' object is not subscriptable",
          "output_type": "error",
          "traceback": [
            "\u001b[1;31m---------------------------------------------------------------------------\u001b[0m",
            "\u001b[1;31mTypeError\u001b[0m                                 Traceback (most recent call last)",
            "Cell \u001b[1;32mIn[10], line 4\u001b[0m\n\u001b[0;32m      2\u001b[0m num_components \u001b[38;5;241m=\u001b[39m \u001b[38;5;28;01mNone\u001b[39;00m  \u001b[38;5;66;03m# Decide on the number of principal components to keep\u001b[39;00m\n\u001b[0;32m      3\u001b[0m reduced_data \u001b[38;5;241m=\u001b[39m \u001b[38;5;28;01mNone\u001b[39;00m  \u001b[38;5;66;03m# Project data onto the principal components\u001b[39;00m\n\u001b[1;32m----> 4\u001b[0m \u001b[43mreduced_data\u001b[49m\u001b[43m[\u001b[49m\u001b[43m:\u001b[49m\u001b[38;5;241;43m5\u001b[39;49m\u001b[43m]\u001b[49m\n",
            "\u001b[1;31mTypeError\u001b[0m: 'NoneType' object is not subscriptable"
          ]
        }
      ],
      "source": [
        "# Step 6: Project Data onto Principal Components\n",
        "num_components = None  # Decide on the number of principal components to keep\n",
        "reduced_data = None  # Project data onto the principal components\n",
        "reduced_data[:5]"
      ]
    },
    {
      "cell_type": "markdown",
      "metadata": {
        "id": "XVq-b6vtr_Kg"
      },
      "source": [
        "### Step 7: Output the Reduced Data\n",
        "Finally, display the reduced data obtained by projecting the original dataset onto the selected principal components."
      ]
    },
    {
      "cell_type": "code",
      "execution_count": null,
      "metadata": {
        "id": "5D0uzRyPr_Kg"
      },
      "outputs": [],
      "source": [
        "# Step 7: Output the Reduced Data\n",
        "print(f'Reduced Data Shape: {reduced_data.shape}')  # Display reduced data shape\n",
        "reduced_data[:5]  # Display the first few rows of reduced data"
      ]
    },
    {
      "cell_type": "markdown",
      "metadata": {
        "id": "S1f8ROm5r_Kg"
      },
      "source": [
        "### Step 8: Visualize Before and After PCA\n",
        "Now, let's plot the original data and the data after PCA to compare the reduction in dimensions visually."
      ]
    },
    {
      "cell_type": "code",
      "execution_count": null,
      "metadata": {
        "id": "WwuppWV-r_Kg"
      },
      "outputs": [],
      "source": [
        "# Step 8: Visualize Before and After PCA\n",
        "\n",
        "\n",
        "# Plot original data (first two features for simplicity)\n",
        "\n",
        "\n",
        "# Plot reduced data after PCA\n"
      ]
    }
  ],
  "metadata": {
    "colab": {
      "provenance": []
    },
    "kernelspec": {
      "display_name": "Python 3",
      "name": "python3"
    },
    "language_info": {
      "codemirror_mode": {
        "name": "ipython",
        "version": 3
      },
      "file_extension": ".py",
      "mimetype": "text/x-python",
      "name": "python",
      "nbconvert_exporter": "python",
      "pygments_lexer": "ipython3",
      "version": "3.12.7"
    }
  },
  "nbformat": 4,
  "nbformat_minor": 0
}
